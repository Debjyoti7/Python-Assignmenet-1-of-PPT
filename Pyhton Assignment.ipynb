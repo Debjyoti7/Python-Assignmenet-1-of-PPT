{
 "cells": [
  {
   "cell_type": "markdown",
   "id": "4b050291",
   "metadata": {},
   "source": [
    "# 1. Write a Python program to reverse a string without using any built-in string reversal functions.\n"
   ]
  },
  {
   "cell_type": "code",
   "execution_count": 6,
   "id": "4e26857a",
   "metadata": {},
   "outputs": [
    {
     "data": {
      "text/plain": [
       "'sllikSWP'"
      ]
     },
     "execution_count": 6,
     "metadata": {},
     "output_type": "execute_result"
    }
   ],
   "source": [
    "str = 'PWSkills'\n",
    "reversed_str= str[::-1]\n",
    "reversed_str"
   ]
  },
  {
   "cell_type": "markdown",
   "id": "a9f53a15",
   "metadata": {},
   "source": [
    "# 2. Implement a function to check if a given string is a palindrome."
   ]
  },
  {
   "cell_type": "code",
   "execution_count": 8,
   "id": "344d95c4",
   "metadata": {},
   "outputs": [
    {
     "name": "stdout",
     "output_type": "stream",
     "text": [
      "Enter a string: AbcCbA\n",
      "The string is a palindrome.\n"
     ]
    }
   ],
   "source": [
    "def is_palindrome(string):\n",
    "    string=string.lower()\n",
    "    reversed_string = string[::-1]\n",
    "    return string==reversed_string\n",
    "\n",
    "input_string = input('Enter a string: ')\n",
    "if is_palindrome(input_string):\n",
    "    print(\"The string is a palindrome.\")\n",
    "else:\n",
    "    print(\"The string is not a palindrome.\")"
   ]
  },
  {
   "cell_type": "markdown",
   "id": "935ba17f",
   "metadata": {},
   "source": [
    "# 3. Write a program to find the largest element in a given list."
   ]
  },
  {
   "cell_type": "code",
   "execution_count": 33,
   "id": "3f1f4922",
   "metadata": {},
   "outputs": [
    {
     "name": "stdout",
     "output_type": "stream",
     "text": [
      "Enter a list of numbers : 1,2,33,4,42,5\n",
      "The largest element is: 42\n"
     ]
    }
   ],
   "source": [
    "def find_largest_element(lst):\n",
    "    if not lst:\n",
    "        return None \n",
    "    largest_element = lst[0]  \n",
    "    for num in lst:\n",
    "        if num > largest_element:\n",
    "            largest_element = num\n",
    "    return largest_element\n",
    "\n",
    "\n",
    "input_list = input(\"Enter a list of numbers : \").split(',')\n",
    "input_list = [int(num) for num in input_list]  \n",
    "largest_element = find_largest_element(input_list)\n",
    "print(\"The largest element is:\", largest_element)\n"
   ]
  },
  {
   "cell_type": "markdown",
   "id": "7435da42",
   "metadata": {},
   "source": [
    "# 4. Implement a function to count the occurrence of each element in a list."
   ]
  },
  {
   "cell_type": "code",
   "execution_count": 37,
   "id": "e0b98429",
   "metadata": {},
   "outputs": [
    {
     "name": "stdout",
     "output_type": "stream",
     "text": [
      "Enter a list of elements (space-separated): 1 2 3 3 4 \n",
      "Occurrence count: {'1': 1, '2': 1, '3': 2, '4': 1}\n"
     ]
    }
   ],
   "source": [
    "def count_occurrences(lst):\n",
    "    occurrence_count = {}\n",
    "    for element in lst:\n",
    "        if element in occurrence_count:\n",
    "            occurrence_count[element] += 1\n",
    "        else:\n",
    "            occurrence_count[element] = 1\n",
    "    return occurrence_count\n",
    "\n",
    "# Example usage:\n",
    "input_list = input(\"Enter a list of elements (space-separated): \").split()\n",
    "occurrence_count = count_occurrences(input_list)\n",
    "print(\"Occurrence count:\", occurrence_count)"
   ]
  },
  {
   "cell_type": "markdown",
   "id": "4d3391a0",
   "metadata": {},
   "source": [
    "# 5. Write a Python program to find the second largest number in a list."
   ]
  },
  {
   "cell_type": "code",
   "execution_count": 36,
   "id": "3b957ea4",
   "metadata": {},
   "outputs": [
    {
     "name": "stdout",
     "output_type": "stream",
     "text": [
      "Enter a list : 1,2,3,4,5,6\n",
      "The second largest number is :  5\n"
     ]
    }
   ],
   "source": [
    "def find_second_largest(lst):\n",
    "    if len(lst)<2:\n",
    "        return None\n",
    "    largest=max(lst[0],lst[1])\n",
    "    second_largest=min(lst[0],lst[1])\n",
    "    \n",
    "    for num in lst[2:]:\n",
    "        if num > largest:\n",
    "            second_largest = largest\n",
    "            largest = num\n",
    "        elif num > second_largest:\n",
    "            second_largest = num\n",
    "            \n",
    "    return second_largest\n",
    "\n",
    "\n",
    "input_list = input(\"Enter a list : \").split(',')\n",
    "input_list = [int(num) for num in input_list]\n",
    "second_largest=find_second_largest(input_list)\n",
    "if second_largest is not None:\n",
    "    print(\"The second largest number is : \",second_largest)\n",
    "else:\n",
    "    print(\"There is no second largest number in the list\")\n",
    "        "
   ]
  },
  {
   "cell_type": "markdown",
   "id": "c1ab3009",
   "metadata": {},
   "source": [
    "# 6. Implement a function to remove duplicate elements from a list.\n"
   ]
  },
  {
   "cell_type": "code",
   "execution_count": 38,
   "id": "198a40f2",
   "metadata": {},
   "outputs": [
    {
     "name": "stdout",
     "output_type": "stream",
     "text": [
      "Enter a list of elements (space-separated):  1 2 3 3 3 4 4\n",
      "List with duplicates removed: ['3', '2', '1', '4']\n"
     ]
    }
   ],
   "source": [
    "def remove_duplicates(lst):\n",
    "    return list(set(lst))\n",
    "\n",
    "# Example usage:\n",
    "input_list = input(\"Enter a list of elements (space-separated): \").split()\n",
    "output_list = remove_duplicates(input_list)\n",
    "print(\"List with duplicates removed:\", output_list)\n",
    "\n"
   ]
  },
  {
   "cell_type": "markdown",
   "id": "10e6aff0",
   "metadata": {},
   "source": [
    "# 7. Write a program to calculate the factorial of a given number.\n"
   ]
  },
  {
   "cell_type": "code",
   "execution_count": 41,
   "id": "8f9ac5e7",
   "metadata": {},
   "outputs": [
    {
     "name": "stdout",
     "output_type": "stream",
     "text": [
      "Enter a number: 5\n",
      "Factorial of 5 is 120\n"
     ]
    }
   ],
   "source": [
    "def factorial(n):\n",
    "    if n == 0 or n == 1:\n",
    "        return 1\n",
    "    else:\n",
    "        return n * factorial(n - 1)\n",
    "\n",
    "\n",
    "input_number = int(input(\"Enter a number: \"))\n",
    "result = factorial(input_number)\n",
    "print(\"Factorial of\", input_number, \"is\", result)\n"
   ]
  },
  {
   "cell_type": "markdown",
   "id": "5c8d6b77",
   "metadata": {},
   "source": [
    "# 8. Implement a function to check if a given number is prime."
   ]
  },
  {
   "cell_type": "code",
   "execution_count": 42,
   "id": "b5996493",
   "metadata": {},
   "outputs": [
    {
     "name": "stdout",
     "output_type": "stream",
     "text": [
      "Enter a number: 5\n",
      "5 is a prime number.\n"
     ]
    }
   ],
   "source": [
    "def is_prime(n):\n",
    "    if n<=1:\n",
    "        return False\n",
    "    \n",
    "    for i in range(2, int(n**.05) +1):\n",
    "        if n%i == 0:\n",
    "            return False\n",
    "    return True\n",
    "\n",
    "input_number = int(input(\"Enter a number: \"))\n",
    "if is_prime(input_number):\n",
    "    print(input_number, \"is a prime number.\")\n",
    "else:\n",
    "    print(input_number, \"is not a prime number.\")"
   ]
  },
  {
   "cell_type": "markdown",
   "id": "ae3f485b",
   "metadata": {},
   "source": [
    "# 9. Write a Python program to sort a list of integers in ascending order."
   ]
  },
  {
   "cell_type": "code",
   "execution_count": 43,
   "id": "c82cbb6c",
   "metadata": {},
   "outputs": [
    {
     "name": "stdout",
     "output_type": "stream",
     "text": [
      "Enter a list : 1,2,3,4,5,2,4\n",
      "Sorted list: [1, 2, 2, 3, 4, 4, 5]\n"
     ]
    }
   ],
   "source": [
    "def ascending_list(lst):\n",
    "    lst = sorted(lst)\n",
    "    return lst\n",
    "\n",
    "input_list = input('Enter a list : ').split(',')\n",
    "input_list=[int(num) for num in input_list]\n",
    "ascending_list = ascending_list(input_list)\n",
    "print(\"Sorted list:\",ascending_list)"
   ]
  },
  {
   "cell_type": "markdown",
   "id": "ec579e6c",
   "metadata": {},
   "source": [
    "# 10. Implement a function to find the sum of all numbers in a list."
   ]
  },
  {
   "cell_type": "code",
   "execution_count": 46,
   "id": "4d0d2775",
   "metadata": {},
   "outputs": [
    {
     "name": "stdout",
     "output_type": "stream",
     "text": [
      "Enter a list of integers (space-separated): 1 3 6 3 2 4 7 8 9 1\n",
      "Sorted list: [1, 1, 2, 3, 3, 4, 6, 7, 8, 9]\n"
     ]
    }
   ],
   "source": [
    "def ascending_sort(lst):\n",
    "    sorted_list = sorted(lst)\n",
    "    return sorted_list\n",
    "\n",
    "# Example usage:\n",
    "input_list = input(\"Enter a list of integers (space-separated): \").split()\n",
    "input_list = [int(num) for num in input_list]  # Convert the input strings to integers\n",
    "sorted_list = ascending_sort(input_list)\n",
    "print(\"Sorted list:\", sorted_list)\n"
   ]
  },
  {
   "cell_type": "markdown",
   "id": "9e84e80d",
   "metadata": {},
   "source": [
    "# 11. Write a program to find the common elements between two lists.\n"
   ]
  },
  {
   "cell_type": "code",
   "execution_count": 47,
   "id": "8124aa07",
   "metadata": {},
   "outputs": [
    {
     "name": "stdout",
     "output_type": "stream",
     "text": [
      "The common elements of the two lists are: [2, 3, 6]\n"
     ]
    }
   ],
   "source": [
    "def find_common_element(list1,list2):\n",
    "    set1 = set(list1)\n",
    "    set2=set(list2)\n",
    "    common_element=set1.intersection(set2)\n",
    "    return list(common_element)\n",
    "\n",
    "list1=[1,2,3,4,5,6]\n",
    "list2=[2,3,6,7,8,9]\n",
    "common_element = find_common_element(list1,list2)\n",
    "print(\"The common elements of the two lists are:\",common_element)"
   ]
  },
  {
   "cell_type": "markdown",
   "id": "7616d3f8",
   "metadata": {},
   "source": [
    "# 12. Implement a function to check if a given string is an anagram of another string.\n"
   ]
  },
  {
   "cell_type": "code",
   "execution_count": 51,
   "id": "3414bd42",
   "metadata": {},
   "outputs": [
    {
     "name": "stdout",
     "output_type": "stream",
     "text": [
      "Enter the first string: abc\n",
      "Enter the second string: abc\n",
      "The strings are anagrams.\n"
     ]
    }
   ],
   "source": [
    "def is_anagram(str1, str2):\n",
    "    str1 = str1.lower().replace(\" \", \"\")\n",
    "    str2 = str2.lower().replace(\" \", \"\")\n",
    "    \n",
    "  \n",
    "    return sorted(str1) == sorted(str2)\n",
    "\n",
    "\n",
    "string1 = input(\"Enter the first string: \")\n",
    "string2 = input(\"Enter the second string: \")\n",
    "\n",
    "if is_anagram(string1, string2):\n",
    "    print(\"The strings are anagrams.\")\n",
    "else:\n",
    "    print(\"The strings are not anagrams.\")\n"
   ]
  },
  {
   "cell_type": "markdown",
   "id": "2d45fe8a",
   "metadata": {},
   "source": [
    "# 13. Write a Python program to generate all permutations of a given string.\n"
   ]
  },
  {
   "cell_type": "code",
   "execution_count": 1,
   "id": "035ffb5f",
   "metadata": {},
   "outputs": [
    {
     "name": "stdout",
     "output_type": "stream",
     "text": [
      "Enter a string: abchdf\n",
      "All permutations of abchdf are:\n",
      "abchdf\n",
      "abchfd\n",
      "abcdhf\n",
      "abcdfh\n",
      "abcfhd\n",
      "abcfdh\n",
      "abhcdf\n",
      "abhcfd\n",
      "abhdcf\n",
      "abhdfc\n",
      "abhfcd\n",
      "abhfdc\n",
      "abdchf\n",
      "abdcfh\n",
      "abdhcf\n",
      "abdhfc\n",
      "abdfch\n",
      "abdfhc\n",
      "abfchd\n",
      "abfcdh\n",
      "abfhcd\n",
      "abfhdc\n",
      "abfdch\n",
      "abfdhc\n",
      "acbhdf\n",
      "acbhfd\n",
      "acbdhf\n",
      "acbdfh\n",
      "acbfhd\n",
      "acbfdh\n",
      "achbdf\n",
      "achbfd\n",
      "achdbf\n",
      "achdfb\n",
      "achfbd\n",
      "achfdb\n",
      "acdbhf\n",
      "acdbfh\n",
      "acdhbf\n",
      "acdhfb\n",
      "acdfbh\n",
      "acdfhb\n",
      "acfbhd\n",
      "acfbdh\n",
      "acfhbd\n",
      "acfhdb\n",
      "acfdbh\n",
      "acfdhb\n",
      "ahbcdf\n",
      "ahbcfd\n",
      "ahbdcf\n",
      "ahbdfc\n",
      "ahbfcd\n",
      "ahbfdc\n",
      "ahcbdf\n",
      "ahcbfd\n",
      "ahcdbf\n",
      "ahcdfb\n",
      "ahcfbd\n",
      "ahcfdb\n",
      "ahdbcf\n",
      "ahdbfc\n",
      "ahdcbf\n",
      "ahdcfb\n",
      "ahdfbc\n",
      "ahdfcb\n",
      "ahfbcd\n",
      "ahfbdc\n",
      "ahfcbd\n",
      "ahfcdb\n",
      "ahfdbc\n",
      "ahfdcb\n",
      "adbchf\n",
      "adbcfh\n",
      "adbhcf\n",
      "adbhfc\n",
      "adbfch\n",
      "adbfhc\n",
      "adcbhf\n",
      "adcbfh\n",
      "adchbf\n",
      "adchfb\n",
      "adcfbh\n",
      "adcfhb\n",
      "adhbcf\n",
      "adhbfc\n",
      "adhcbf\n",
      "adhcfb\n",
      "adhfbc\n",
      "adhfcb\n",
      "adfbch\n",
      "adfbhc\n",
      "adfcbh\n",
      "adfchb\n",
      "adfhbc\n",
      "adfhcb\n",
      "afbchd\n",
      "afbcdh\n",
      "afbhcd\n",
      "afbhdc\n",
      "afbdch\n",
      "afbdhc\n",
      "afcbhd\n",
      "afcbdh\n",
      "afchbd\n",
      "afchdb\n",
      "afcdbh\n",
      "afcdhb\n",
      "afhbcd\n",
      "afhbdc\n",
      "afhcbd\n",
      "afhcdb\n",
      "afhdbc\n",
      "afhdcb\n",
      "afdbch\n",
      "afdbhc\n",
      "afdcbh\n",
      "afdchb\n",
      "afdhbc\n",
      "afdhcb\n",
      "bachdf\n",
      "bachfd\n",
      "bacdhf\n",
      "bacdfh\n",
      "bacfhd\n",
      "bacfdh\n",
      "bahcdf\n",
      "bahcfd\n",
      "bahdcf\n",
      "bahdfc\n",
      "bahfcd\n",
      "bahfdc\n",
      "badchf\n",
      "badcfh\n",
      "badhcf\n",
      "badhfc\n",
      "badfch\n",
      "badfhc\n",
      "bafchd\n",
      "bafcdh\n",
      "bafhcd\n",
      "bafhdc\n",
      "bafdch\n",
      "bafdhc\n",
      "bcahdf\n",
      "bcahfd\n",
      "bcadhf\n",
      "bcadfh\n",
      "bcafhd\n",
      "bcafdh\n",
      "bchadf\n",
      "bchafd\n",
      "bchdaf\n",
      "bchdfa\n",
      "bchfad\n",
      "bchfda\n",
      "bcdahf\n",
      "bcdafh\n",
      "bcdhaf\n",
      "bcdhfa\n",
      "bcdfah\n",
      "bcdfha\n",
      "bcfahd\n",
      "bcfadh\n",
      "bcfhad\n",
      "bcfhda\n",
      "bcfdah\n",
      "bcfdha\n",
      "bhacdf\n",
      "bhacfd\n",
      "bhadcf\n",
      "bhadfc\n",
      "bhafcd\n",
      "bhafdc\n",
      "bhcadf\n",
      "bhcafd\n",
      "bhcdaf\n",
      "bhcdfa\n",
      "bhcfad\n",
      "bhcfda\n",
      "bhdacf\n",
      "bhdafc\n",
      "bhdcaf\n",
      "bhdcfa\n",
      "bhdfac\n",
      "bhdfca\n",
      "bhfacd\n",
      "bhfadc\n",
      "bhfcad\n",
      "bhfcda\n",
      "bhfdac\n",
      "bhfdca\n",
      "bdachf\n",
      "bdacfh\n",
      "bdahcf\n",
      "bdahfc\n",
      "bdafch\n",
      "bdafhc\n",
      "bdcahf\n",
      "bdcafh\n",
      "bdchaf\n",
      "bdchfa\n",
      "bdcfah\n",
      "bdcfha\n",
      "bdhacf\n",
      "bdhafc\n",
      "bdhcaf\n",
      "bdhcfa\n",
      "bdhfac\n",
      "bdhfca\n",
      "bdfach\n",
      "bdfahc\n",
      "bdfcah\n",
      "bdfcha\n",
      "bdfhac\n",
      "bdfhca\n",
      "bfachd\n",
      "bfacdh\n",
      "bfahcd\n",
      "bfahdc\n",
      "bfadch\n",
      "bfadhc\n",
      "bfcahd\n",
      "bfcadh\n",
      "bfchad\n",
      "bfchda\n",
      "bfcdah\n",
      "bfcdha\n",
      "bfhacd\n",
      "bfhadc\n",
      "bfhcad\n",
      "bfhcda\n",
      "bfhdac\n",
      "bfhdca\n",
      "bfdach\n",
      "bfdahc\n",
      "bfdcah\n",
      "bfdcha\n",
      "bfdhac\n",
      "bfdhca\n",
      "cabhdf\n",
      "cabhfd\n",
      "cabdhf\n",
      "cabdfh\n",
      "cabfhd\n",
      "cabfdh\n",
      "cahbdf\n",
      "cahbfd\n",
      "cahdbf\n",
      "cahdfb\n",
      "cahfbd\n",
      "cahfdb\n",
      "cadbhf\n",
      "cadbfh\n",
      "cadhbf\n",
      "cadhfb\n",
      "cadfbh\n",
      "cadfhb\n",
      "cafbhd\n",
      "cafbdh\n",
      "cafhbd\n",
      "cafhdb\n",
      "cafdbh\n",
      "cafdhb\n",
      "cbahdf\n",
      "cbahfd\n",
      "cbadhf\n",
      "cbadfh\n",
      "cbafhd\n",
      "cbafdh\n",
      "cbhadf\n",
      "cbhafd\n",
      "cbhdaf\n",
      "cbhdfa\n",
      "cbhfad\n",
      "cbhfda\n",
      "cbdahf\n",
      "cbdafh\n",
      "cbdhaf\n",
      "cbdhfa\n",
      "cbdfah\n",
      "cbdfha\n",
      "cbfahd\n",
      "cbfadh\n",
      "cbfhad\n",
      "cbfhda\n",
      "cbfdah\n",
      "cbfdha\n",
      "chabdf\n",
      "chabfd\n",
      "chadbf\n",
      "chadfb\n",
      "chafbd\n",
      "chafdb\n",
      "chbadf\n",
      "chbafd\n",
      "chbdaf\n",
      "chbdfa\n",
      "chbfad\n",
      "chbfda\n",
      "chdabf\n",
      "chdafb\n",
      "chdbaf\n",
      "chdbfa\n",
      "chdfab\n",
      "chdfba\n",
      "chfabd\n",
      "chfadb\n",
      "chfbad\n",
      "chfbda\n",
      "chfdab\n",
      "chfdba\n",
      "cdabhf\n",
      "cdabfh\n",
      "cdahbf\n",
      "cdahfb\n",
      "cdafbh\n",
      "cdafhb\n",
      "cdbahf\n",
      "cdbafh\n",
      "cdbhaf\n",
      "cdbhfa\n",
      "cdbfah\n",
      "cdbfha\n",
      "cdhabf\n",
      "cdhafb\n",
      "cdhbaf\n",
      "cdhbfa\n",
      "cdhfab\n",
      "cdhfba\n",
      "cdfabh\n",
      "cdfahb\n",
      "cdfbah\n",
      "cdfbha\n",
      "cdfhab\n",
      "cdfhba\n",
      "cfabhd\n",
      "cfabdh\n",
      "cfahbd\n",
      "cfahdb\n",
      "cfadbh\n",
      "cfadhb\n",
      "cfbahd\n",
      "cfbadh\n",
      "cfbhad\n",
      "cfbhda\n",
      "cfbdah\n",
      "cfbdha\n",
      "cfhabd\n",
      "cfhadb\n",
      "cfhbad\n",
      "cfhbda\n",
      "cfhdab\n",
      "cfhdba\n",
      "cfdabh\n",
      "cfdahb\n",
      "cfdbah\n",
      "cfdbha\n",
      "cfdhab\n",
      "cfdhba\n",
      "habcdf\n",
      "habcfd\n",
      "habdcf\n",
      "habdfc\n",
      "habfcd\n",
      "habfdc\n",
      "hacbdf\n",
      "hacbfd\n",
      "hacdbf\n",
      "hacdfb\n",
      "hacfbd\n",
      "hacfdb\n",
      "hadbcf\n",
      "hadbfc\n",
      "hadcbf\n",
      "hadcfb\n",
      "hadfbc\n",
      "hadfcb\n",
      "hafbcd\n",
      "hafbdc\n",
      "hafcbd\n",
      "hafcdb\n",
      "hafdbc\n",
      "hafdcb\n",
      "hbacdf\n",
      "hbacfd\n",
      "hbadcf\n",
      "hbadfc\n",
      "hbafcd\n",
      "hbafdc\n",
      "hbcadf\n",
      "hbcafd\n",
      "hbcdaf\n",
      "hbcdfa\n",
      "hbcfad\n",
      "hbcfda\n",
      "hbdacf\n",
      "hbdafc\n",
      "hbdcaf\n",
      "hbdcfa\n",
      "hbdfac\n",
      "hbdfca\n",
      "hbfacd\n",
      "hbfadc\n",
      "hbfcad\n",
      "hbfcda\n",
      "hbfdac\n",
      "hbfdca\n",
      "hcabdf\n",
      "hcabfd\n",
      "hcadbf\n",
      "hcadfb\n",
      "hcafbd\n",
      "hcafdb\n",
      "hcbadf\n",
      "hcbafd\n",
      "hcbdaf\n",
      "hcbdfa\n",
      "hcbfad\n",
      "hcbfda\n",
      "hcdabf\n",
      "hcdafb\n",
      "hcdbaf\n",
      "hcdbfa\n",
      "hcdfab\n",
      "hcdfba\n",
      "hcfabd\n",
      "hcfadb\n",
      "hcfbad\n",
      "hcfbda\n",
      "hcfdab\n",
      "hcfdba\n",
      "hdabcf\n",
      "hdabfc\n",
      "hdacbf\n",
      "hdacfb\n",
      "hdafbc\n",
      "hdafcb\n",
      "hdbacf\n",
      "hdbafc\n",
      "hdbcaf\n",
      "hdbcfa\n",
      "hdbfac\n",
      "hdbfca\n",
      "hdcabf\n",
      "hdcafb\n",
      "hdcbaf\n",
      "hdcbfa\n",
      "hdcfab\n",
      "hdcfba\n",
      "hdfabc\n",
      "hdfacb\n",
      "hdfbac\n",
      "hdfbca\n",
      "hdfcab\n",
      "hdfcba\n",
      "hfabcd\n",
      "hfabdc\n",
      "hfacbd\n",
      "hfacdb\n",
      "hfadbc\n",
      "hfadcb\n",
      "hfbacd\n",
      "hfbadc\n",
      "hfbcad\n",
      "hfbcda\n",
      "hfbdac\n",
      "hfbdca\n",
      "hfcabd\n",
      "hfcadb\n",
      "hfcbad\n",
      "hfcbda\n",
      "hfcdab\n",
      "hfcdba\n",
      "hfdabc\n",
      "hfdacb\n",
      "hfdbac\n",
      "hfdbca\n",
      "hfdcab\n",
      "hfdcba\n",
      "dabchf\n",
      "dabcfh\n",
      "dabhcf\n",
      "dabhfc\n",
      "dabfch\n",
      "dabfhc\n",
      "dacbhf\n",
      "dacbfh\n",
      "dachbf\n",
      "dachfb\n",
      "dacfbh\n",
      "dacfhb\n",
      "dahbcf\n",
      "dahbfc\n",
      "dahcbf\n",
      "dahcfb\n",
      "dahfbc\n",
      "dahfcb\n",
      "dafbch\n",
      "dafbhc\n",
      "dafcbh\n",
      "dafchb\n",
      "dafhbc\n",
      "dafhcb\n",
      "dbachf\n",
      "dbacfh\n",
      "dbahcf\n",
      "dbahfc\n",
      "dbafch\n",
      "dbafhc\n",
      "dbcahf\n",
      "dbcafh\n",
      "dbchaf\n",
      "dbchfa\n",
      "dbcfah\n",
      "dbcfha\n",
      "dbhacf\n",
      "dbhafc\n",
      "dbhcaf\n",
      "dbhcfa\n",
      "dbhfac\n",
      "dbhfca\n",
      "dbfach\n",
      "dbfahc\n",
      "dbfcah\n",
      "dbfcha\n",
      "dbfhac\n",
      "dbfhca\n",
      "dcabhf\n",
      "dcabfh\n",
      "dcahbf\n",
      "dcahfb\n",
      "dcafbh\n",
      "dcafhb\n",
      "dcbahf\n",
      "dcbafh\n",
      "dcbhaf\n",
      "dcbhfa\n",
      "dcbfah\n",
      "dcbfha\n",
      "dchabf\n",
      "dchafb\n",
      "dchbaf\n",
      "dchbfa\n",
      "dchfab\n",
      "dchfba\n",
      "dcfabh\n",
      "dcfahb\n",
      "dcfbah\n",
      "dcfbha\n",
      "dcfhab\n",
      "dcfhba\n",
      "dhabcf\n",
      "dhabfc\n",
      "dhacbf\n",
      "dhacfb\n",
      "dhafbc\n",
      "dhafcb\n",
      "dhbacf\n",
      "dhbafc\n",
      "dhbcaf\n",
      "dhbcfa\n",
      "dhbfac\n",
      "dhbfca\n",
      "dhcabf\n",
      "dhcafb\n",
      "dhcbaf\n",
      "dhcbfa\n",
      "dhcfab\n",
      "dhcfba\n",
      "dhfabc\n",
      "dhfacb\n",
      "dhfbac\n",
      "dhfbca\n",
      "dhfcab\n",
      "dhfcba\n",
      "dfabch\n",
      "dfabhc\n",
      "dfacbh\n",
      "dfachb\n",
      "dfahbc\n",
      "dfahcb\n",
      "dfbach\n",
      "dfbahc\n",
      "dfbcah\n",
      "dfbcha\n",
      "dfbhac\n",
      "dfbhca\n",
      "dfcabh\n",
      "dfcahb\n",
      "dfcbah\n",
      "dfcbha\n",
      "dfchab\n",
      "dfchba\n",
      "dfhabc\n",
      "dfhacb\n",
      "dfhbac\n",
      "dfhbca\n",
      "dfhcab\n",
      "dfhcba\n",
      "fabchd\n",
      "fabcdh\n",
      "fabhcd\n",
      "fabhdc\n",
      "fabdch\n",
      "fabdhc\n",
      "facbhd\n",
      "facbdh\n",
      "fachbd\n",
      "fachdb\n",
      "facdbh\n",
      "facdhb\n",
      "fahbcd\n",
      "fahbdc\n",
      "fahcbd\n",
      "fahcdb\n",
      "fahdbc\n",
      "fahdcb\n",
      "fadbch\n",
      "fadbhc\n",
      "fadcbh\n",
      "fadchb\n",
      "fadhbc\n",
      "fadhcb\n",
      "fbachd\n",
      "fbacdh\n",
      "fbahcd\n",
      "fbahdc\n",
      "fbadch\n",
      "fbadhc\n",
      "fbcahd\n",
      "fbcadh\n",
      "fbchad\n",
      "fbchda\n",
      "fbcdah\n",
      "fbcdha\n",
      "fbhacd\n",
      "fbhadc\n",
      "fbhcad\n",
      "fbhcda\n",
      "fbhdac\n",
      "fbhdca\n",
      "fbdach\n",
      "fbdahc\n",
      "fbdcah\n",
      "fbdcha\n",
      "fbdhac\n",
      "fbdhca\n",
      "fcabhd\n",
      "fcabdh\n",
      "fcahbd\n",
      "fcahdb\n",
      "fcadbh\n",
      "fcadhb\n",
      "fcbahd\n",
      "fcbadh\n",
      "fcbhad\n",
      "fcbhda\n",
      "fcbdah\n",
      "fcbdha\n",
      "fchabd\n",
      "fchadb\n",
      "fchbad\n",
      "fchbda\n",
      "fchdab\n",
      "fchdba\n",
      "fcdabh\n",
      "fcdahb\n",
      "fcdbah\n",
      "fcdbha\n",
      "fcdhab\n",
      "fcdhba\n",
      "fhabcd\n",
      "fhabdc\n",
      "fhacbd\n",
      "fhacdb\n",
      "fhadbc\n",
      "fhadcb\n",
      "fhbacd\n",
      "fhbadc\n",
      "fhbcad\n",
      "fhbcda\n",
      "fhbdac\n",
      "fhbdca\n",
      "fhcabd\n",
      "fhcadb\n",
      "fhcbad\n",
      "fhcbda\n",
      "fhcdab\n",
      "fhcdba\n",
      "fhdabc\n",
      "fhdacb\n",
      "fhdbac\n",
      "fhdbca\n",
      "fhdcab\n",
      "fhdcba\n",
      "fdabch\n",
      "fdabhc\n",
      "fdacbh\n",
      "fdachb\n",
      "fdahbc\n",
      "fdahcb\n",
      "fdbach\n",
      "fdbahc\n",
      "fdbcah\n",
      "fdbcha\n",
      "fdbhac\n",
      "fdbhca\n",
      "fdcabh\n",
      "fdcahb\n",
      "fdcbah\n",
      "fdcbha\n",
      "fdchab\n",
      "fdchba\n",
      "fdhabc\n",
      "fdhacb\n",
      "fdhbac\n",
      "fdhbca\n",
      "fdhcab\n",
      "fdhcba\n"
     ]
    }
   ],
   "source": [
    "def generate_permutations(string):\n",
    "    # Base case: If the string is empty or has only one character,\n",
    "    # return the string itself as the only permutation\n",
    "    if len(string) <= 1:\n",
    "        return [string]\n",
    "\n",
    "    # List to store all permutations\n",
    "    permutations = []\n",
    "\n",
    "    # Iterate over each character in the string\n",
    "    for i in range(len(string)):\n",
    "        # Choose the current character as the first character\n",
    "        # and generate permutations for the remaining characters\n",
    "        first_char = string[i]\n",
    "        remaining_chars = string[:i] + string[i+1:]\n",
    "        sub_permutations = generate_permutations(remaining_chars)\n",
    "\n",
    "        # Add the first character to the beginning of each permutation\n",
    "        for permutation in sub_permutations:\n",
    "            permutations.append(first_char + permutation)\n",
    "\n",
    "    return permutations\n",
    "\n",
    "# Example usage:\n",
    "input_string = input(\"Enter a string: \")\n",
    "all_permutations = generate_permutations(input_string)\n",
    "print(\"All permutations of\", input_string, \"are:\")\n",
    "for permutation in all_permutations:\n",
    "    print(permutation)\n"
   ]
  },
  {
   "cell_type": "markdown",
   "id": "9b65f0b8",
   "metadata": {},
   "source": [
    "# 14. Implement a function to calculate the Fibonacci sequence up to a given number of terms.\n"
   ]
  },
  {
   "cell_type": "code",
   "execution_count": 2,
   "id": "6c1a11fb",
   "metadata": {},
   "outputs": [],
   "source": [
    "def fibonacci(n):\n",
    "    series = []\n",
    "    a,b = 0,1\n",
    "    if n<=0:\n",
    "        return series\n",
    "    series.append(a)\n",
    "    for _ in range(1,n):\n",
    "        series.append(b)\n",
    "        \n",
    "        a,b = b, a+b\n",
    "    return series"
   ]
  },
  {
   "cell_type": "code",
   "execution_count": 3,
   "id": "0804476e",
   "metadata": {},
   "outputs": [
    {
     "data": {
      "text/plain": [
       "[0, 1, 1, 2, 3, 5, 8, 13, 21, 34]"
      ]
     },
     "execution_count": 3,
     "metadata": {},
     "output_type": "execute_result"
    }
   ],
   "source": [
    "fibonacci(10)"
   ]
  },
  {
   "cell_type": "markdown",
   "id": "85ee5ac2",
   "metadata": {},
   "source": [
    "# 15. Write a program to find the median of a list of numbers."
   ]
  },
  {
   "cell_type": "code",
   "execution_count": 4,
   "id": "f1abf765",
   "metadata": {},
   "outputs": [],
   "source": [
    "def find_median(nums):\n",
    "    sort_num = sorted(nums)\n",
    "    n = len(sort_num)\n",
    "    \n",
    "    if n%2==0:\n",
    "        mid_index=n//2\n",
    "        median=(sort_num[mid_index_index-1]+sort_num[mid_index])/2\n",
    "    else:\n",
    "        mid_index =n//2\n",
    "        median=(sort_num[mid_index])\n",
    "        \n",
    "    return median"
   ]
  },
  {
   "cell_type": "code",
   "execution_count": 5,
   "id": "5fc2064b",
   "metadata": {},
   "outputs": [
    {
     "name": "stdout",
     "output_type": "stream",
     "text": [
      "Enter a list: 1,2,3,4,5,6,7,8,9\n",
      "The median of the list is:  5\n"
     ]
    }
   ],
   "source": [
    "input_list=input(\"Enter a list: \").split(',')\n",
    "median=find_median(input_list)\n",
    "print(\"The median of the list is: \",median)"
   ]
  },
  {
   "cell_type": "markdown",
   "id": "7ade7e10",
   "metadata": {},
   "source": [
    "# 16. Implement a function to check if a given list is sorted in non-decreasing order.\n"
   ]
  },
  {
   "cell_type": "code",
   "execution_count": 6,
   "id": "65b56e13",
   "metadata": {},
   "outputs": [],
   "source": [
    "def is_sorted(lst):\n",
    "    return all(lst[i] <= lst[i+1] for i in range(len(lst)-1))"
   ]
  },
  {
   "cell_type": "code",
   "execution_count": 7,
   "id": "d7197f5c",
   "metadata": {},
   "outputs": [
    {
     "data": {
      "text/plain": [
       "True"
      ]
     },
     "execution_count": 7,
     "metadata": {},
     "output_type": "execute_result"
    }
   ],
   "source": [
    "l1 = [1,2,3,4,5,6]\n",
    "is_sorted(l1)"
   ]
  },
  {
   "cell_type": "code",
   "execution_count": 8,
   "id": "fa595dc3",
   "metadata": {},
   "outputs": [
    {
     "data": {
      "text/plain": [
       "False"
      ]
     },
     "execution_count": 8,
     "metadata": {},
     "output_type": "execute_result"
    }
   ],
   "source": [
    "l2=[2,5,6,3,1,9]\n",
    "is_sorted(l2)"
   ]
  },
  {
   "cell_type": "markdown",
   "id": "d120f168",
   "metadata": {},
   "source": [
    "# 17. Write a Python program to find the intersection of two lists.\n"
   ]
  },
  {
   "cell_type": "code",
   "execution_count": 13,
   "id": "7e8d7780",
   "metadata": {},
   "outputs": [],
   "source": [
    "def is_intersection(list1, list2):\n",
    "    set1=set(list1)\n",
    "    set2=set(list2)\n",
    "    elements=set1.intersection(set2)\n",
    "    \n",
    "    return list(elements)\n"
   ]
  },
  {
   "cell_type": "code",
   "execution_count": 14,
   "id": "a360b57c",
   "metadata": {},
   "outputs": [
    {
     "data": {
      "text/plain": [
       "[2, 3, 6]"
      ]
     },
     "execution_count": 14,
     "metadata": {},
     "output_type": "execute_result"
    }
   ],
   "source": [
    "l1=[2,3,4,5,6,7,8]\n",
    "l2=[2,3,6,78,1,23]\n",
    "is_intersection(l1,l2)"
   ]
  },
  {
   "cell_type": "markdown",
   "id": "c152fb09",
   "metadata": {},
   "source": [
    "# 18. Implement a function to find the maximum subarray sum in a given list."
   ]
  },
  {
   "cell_type": "code",
   "execution_count": 15,
   "id": "3e3c7039",
   "metadata": {},
   "outputs": [],
   "source": [
    "def max_subarray_sum(lst):\n",
    "    current_sum = max_sum = lst[0]\n",
    "    \n",
    "    for n in lst[1:]:\n",
    "        current_sum = max(n,current_sum+n)\n",
    "        max_sum = max(max_sum, current_sum)\n",
    "        \n",
    "    return max_sum"
   ]
  },
  {
   "cell_type": "code",
   "execution_count": 18,
   "id": "6840e73c",
   "metadata": {},
   "outputs": [
    {
     "data": {
      "text/plain": [
       "9"
      ]
     },
     "execution_count": 18,
     "metadata": {},
     "output_type": "execute_result"
    }
   ],
   "source": [
    "l=[-1,2,3,4,-5,-2,-3]\n",
    "max_subarray_sum(l)"
   ]
  },
  {
   "cell_type": "markdown",
   "id": "6f081f75",
   "metadata": {},
   "source": [
    "# 19. Write a program to remove all vowels from a given string.\n"
   ]
  },
  {
   "cell_type": "code",
   "execution_count": 19,
   "id": "17f45a7b",
   "metadata": {},
   "outputs": [],
   "source": [
    "def remove_vowel(string):\n",
    "    vowel=['a','e','i','o','u','A','E',\"I\",'O','U']\n",
    "    result = \"\"\n",
    "    for char in string:\n",
    "        if char not in vowel:\n",
    "            result += char\n",
    "            \n",
    "    return result"
   ]
  },
  {
   "cell_type": "code",
   "execution_count": 24,
   "id": "ee42e032",
   "metadata": {},
   "outputs": [
    {
     "data": {
      "text/plain": [
       "'Hw r y?'"
      ]
     },
     "execution_count": 24,
     "metadata": {},
     "output_type": "execute_result"
    }
   ],
   "source": [
    "my_string='How are you?'\n",
    "remove_vowel(my_string)"
   ]
  },
  {
   "cell_type": "markdown",
   "id": "e0af4a1f",
   "metadata": {},
   "source": [
    "# 20. Implement a function to reverse the order of words in a given sentence."
   ]
  },
  {
   "cell_type": "code",
   "execution_count": 25,
   "id": "7ca48b86",
   "metadata": {},
   "outputs": [],
   "source": [
    "def reverse_string(snt):\n",
    "    words = snt.split()\n",
    "    reversed_words = words[::-1]\n",
    "    reverse_str = ' '.join(reversed_words)\n",
    "    \n",
    "    return reverse_str"
   ]
  },
  {
   "cell_type": "code",
   "execution_count": 26,
   "id": "68c9dfbf",
   "metadata": {},
   "outputs": [
    {
     "data": {
      "text/plain": [
       "'you? are How'"
      ]
     },
     "execution_count": 26,
     "metadata": {},
     "output_type": "execute_result"
    }
   ],
   "source": [
    "s=\"How are you?\"\n",
    "reverse_string(s)"
   ]
  },
  {
   "cell_type": "markdown",
   "id": "cee8f485",
   "metadata": {},
   "source": [
    "# 21. Write a Python program to check if two strings are anagrams of each other.\n"
   ]
  },
  {
   "cell_type": "code",
   "execution_count": 27,
   "id": "0406e465",
   "metadata": {},
   "outputs": [],
   "source": [
    "def are_anagrams(string1, string2):\n",
    "    string1=sorted(string1.lower().split())\n",
    "    string2=sorted(string2.lower().split())\n",
    "    \n",
    "    return string1==string2"
   ]
  },
  {
   "cell_type": "code",
   "execution_count": 28,
   "id": "634b0ae4",
   "metadata": {},
   "outputs": [
    {
     "data": {
      "text/plain": [
       "False"
      ]
     },
     "execution_count": 28,
     "metadata": {},
     "output_type": "execute_result"
    }
   ],
   "source": [
    "str1='silent'\n",
    "str2='listen'\n",
    "are_anagrams(str1,str2)"
   ]
  },
  {
   "cell_type": "markdown",
   "id": "2323972b",
   "metadata": {},
   "source": [
    "# 22. Implement a function to find the first non-repeating character in a string."
   ]
  },
  {
   "cell_type": "code",
   "execution_count": 33,
   "id": "2a565563",
   "metadata": {},
   "outputs": [],
   "source": [
    "def fin_1st_repating_char(string):\n",
    "    count = {}\n",
    "    \n",
    "    for char in string:\n",
    "        if char in count:\n",
    "            count[char] +=1\n",
    "        else:\n",
    "            count[char]=1\n",
    "            \n",
    "    for char in string:\n",
    "        if count[char]== 1:\n",
    "            return char\n",
    "    return None"
   ]
  },
  {
   "cell_type": "code",
   "execution_count": 34,
   "id": "2e5e7118",
   "metadata": {},
   "outputs": [
    {
     "data": {
      "text/plain": [
       "'h'"
      ]
     },
     "execution_count": 34,
     "metadata": {},
     "output_type": "execute_result"
    }
   ],
   "source": [
    "string3 = 'abbsgccshfscagfccsf'\n",
    "fin_1st_repating_char(string3)"
   ]
  },
  {
   "cell_type": "markdown",
   "id": "dd2208ee",
   "metadata": {},
   "source": [
    "# 23. Write a program to find the prime factors of a given number."
   ]
  },
  {
   "cell_type": "code",
   "execution_count": 39,
   "id": "c1bd9cf7",
   "metadata": {},
   "outputs": [],
   "source": [
    "def find_prime_factors(n):\n",
    "    factors = []\n",
    "    divisor = 2\n",
    "\n",
    "    while divisor <= n:\n",
    "        if n % divisor == 0:\n",
    "            factors.append(divisor)\n",
    "            n //= divisor\n",
    "        else:\n",
    "            divisor += 1\n",
    "\n",
    "    return factors\n"
   ]
  },
  {
   "cell_type": "code",
   "execution_count": 40,
   "id": "a5122998",
   "metadata": {},
   "outputs": [
    {
     "data": {
      "text/plain": [
       "[2, 17]"
      ]
     },
     "execution_count": 40,
     "metadata": {},
     "output_type": "execute_result"
    }
   ],
   "source": [
    "find_prime_factors(34)"
   ]
  },
  {
   "cell_type": "markdown",
   "id": "b44713fc",
   "metadata": {},
   "source": [
    "# 24. Implement a function to check if a given number is a power of two."
   ]
  },
  {
   "cell_type": "code",
   "execution_count": 41,
   "id": "79ed3e6e",
   "metadata": {},
   "outputs": [],
   "source": [
    "def is_power_of_two(n):\n",
    "    if n <= 0:\n",
    "        return False\n",
    "    return (n & (n - 1)) == 0\n"
   ]
  },
  {
   "cell_type": "code",
   "execution_count": 42,
   "id": "a22bab4f",
   "metadata": {},
   "outputs": [
    {
     "data": {
      "text/plain": [
       "False"
      ]
     },
     "execution_count": 42,
     "metadata": {},
     "output_type": "execute_result"
    }
   ],
   "source": [
    "is_power_of_two(9)"
   ]
  },
  {
   "cell_type": "code",
   "execution_count": 43,
   "id": "e8187fbb",
   "metadata": {},
   "outputs": [
    {
     "data": {
      "text/plain": [
       "True"
      ]
     },
     "execution_count": 43,
     "metadata": {},
     "output_type": "execute_result"
    }
   ],
   "source": [
    "is_power_of_two(8)"
   ]
  },
  {
   "cell_type": "markdown",
   "id": "08cc3d0a",
   "metadata": {},
   "source": [
    "# 25. Write a Python program to merge two sorted lists into a single sorted list.\n"
   ]
  },
  {
   "cell_type": "code",
   "execution_count": 44,
   "id": "8b176088",
   "metadata": {},
   "outputs": [],
   "source": [
    "def merge_sorted_lists(list1, list2):\n",
    "    merged_list = []\n",
    "    i = j = 0\n",
    "\n",
    "    while i < len(list1) and j < len(list2):\n",
    "        if list1[i] <= list2[j]:\n",
    "            merged_list.append(list1[i])\n",
    "            i += 1\n",
    "        else:\n",
    "            merged_list.append(list2[j])\n",
    "            j += 1\n",
    "\n",
    "    # Append remaining elements of list1, if any\n",
    "    merged_list.extend(list1[i:])\n",
    "\n",
    "    # Append remaining elements of list2, if any\n",
    "    merged_list.extend(list2[j:])\n",
    "\n",
    "    return merged_list\n"
   ]
  },
  {
   "cell_type": "code",
   "execution_count": 47,
   "id": "611b5baf",
   "metadata": {},
   "outputs": [
    {
     "data": {
      "text/plain": [
       "[1, 2, 3, 4, 5, 6, 7, 8, 6]"
      ]
     },
     "execution_count": 47,
     "metadata": {},
     "output_type": "execute_result"
    }
   ],
   "source": [
    "l1=[1,2,3,4,5,6]\n",
    "l2=[7,8,6]\n",
    "\n",
    "merge_sorted_lists(l1,l2)"
   ]
  },
  {
   "cell_type": "markdown",
   "id": "4b2fd66f",
   "metadata": {},
   "source": [
    "# 26. Implement a function to find the mode of a list of numbers.\n"
   ]
  },
  {
   "cell_type": "code",
   "execution_count": 48,
   "id": "53878702",
   "metadata": {},
   "outputs": [],
   "source": [
    "from collections import Counter\n",
    "\n",
    "def find_mode(numbers):\n",
    "    # Count the occurrences of each number\n",
    "    counts = Counter(numbers)\n",
    "\n",
    "    # Find the maximum count\n",
    "    max_count = max(counts.values())\n",
    "\n",
    "    # Find the numbers with maximum count (mode)\n",
    "    mode = [num for num, count in counts.items() if count == max_count]\n",
    "\n",
    "    return mode\n"
   ]
  },
  {
   "cell_type": "code",
   "execution_count": 49,
   "id": "dcc8946e",
   "metadata": {},
   "outputs": [
    {
     "name": "stdout",
     "output_type": "stream",
     "text": [
      "[4]\n"
     ]
    }
   ],
   "source": [
    "my_list = [1, 2, 2, 3, 3, 3, 4, 4, 4, 4]\n",
    "mode = find_mode(my_list)\n",
    "print(mode)  \n"
   ]
  },
  {
   "cell_type": "markdown",
   "id": "d1a30942",
   "metadata": {},
   "source": [
    "# 27. Write a program to find the greatest common divisor (GCD) of two numbers.\n"
   ]
  },
  {
   "cell_type": "code",
   "execution_count": 50,
   "id": "57e9ca4f",
   "metadata": {},
   "outputs": [],
   "source": [
    "def find_gcd(a, b):\n",
    "    while b != 0:\n",
    "        a, b = b, a % b\n",
    "    return a\n"
   ]
  },
  {
   "cell_type": "code",
   "execution_count": 51,
   "id": "bd65e23e",
   "metadata": {},
   "outputs": [
    {
     "name": "stdout",
     "output_type": "stream",
     "text": [
      "12\n"
     ]
    }
   ],
   "source": [
    "number1 = 24\n",
    "number2 = 36\n",
    "gcd = find_gcd(number1, number2)\n",
    "print(gcd)  \n"
   ]
  },
  {
   "cell_type": "markdown",
   "id": "d4ac3306",
   "metadata": {},
   "source": [
    "# 28. Implement a function to calculate the square root of a given number."
   ]
  },
  {
   "cell_type": "code",
   "execution_count": 52,
   "id": "56d25247",
   "metadata": {},
   "outputs": [],
   "source": [
    "import math\n",
    "\n",
    "def calculate_square_root(number):\n",
    "    if number < 0:\n",
    "        return None\n",
    "    return math.sqrt(number)\n"
   ]
  },
  {
   "cell_type": "code",
   "execution_count": 53,
   "id": "7bb9303d",
   "metadata": {},
   "outputs": [
    {
     "name": "stdout",
     "output_type": "stream",
     "text": [
      "4.0\n"
     ]
    }
   ],
   "source": [
    "number = 16\n",
    "square_root = calculate_square_root(number)\n",
    "print(square_root)  "
   ]
  },
  {
   "cell_type": "markdown",
   "id": "fde26ea9",
   "metadata": {},
   "source": [
    "# 29. Write a Python program to check if a given string is a valid palindrome ignoring non-alphanumeric characters.\n"
   ]
  },
  {
   "cell_type": "code",
   "execution_count": 55,
   "id": "1d42cd98",
   "metadata": {},
   "outputs": [
    {
     "name": "stdout",
     "output_type": "stream",
     "text": [
      "The string is a valid palindrome.\n"
     ]
    }
   ],
   "source": [
    "my_string = \"A man, a plan, a canal: Panama\"\n",
    "if is_valid_palindrome(my_string):\n",
    "    print(\"The string is a valid palindrome.\")\n",
    "else:\n",
    "    print(\"The string is not a valid palindrome.\")\n"
   ]
  },
  {
   "cell_type": "markdown",
   "id": "b57094e8",
   "metadata": {},
   "source": [
    "# 30. Implement a function to find the minimum element in a rotated sorted list."
   ]
  },
  {
   "cell_type": "code",
   "execution_count": 56,
   "id": "b2849f24",
   "metadata": {},
   "outputs": [],
   "source": [
    "def find_minimum_rotated(lst):\n",
    "    left = 0\n",
    "    right = len(lst) - 1\n",
    "\n",
    "    # Check if the list is already sorted (not rotated)\n",
    "    if lst[left] <= lst[right]:\n",
    "        return lst[left]\n",
    "\n",
    "    # Perform binary search to find the minimum element\n",
    "    while left < right:\n",
    "        mid = (left + right) // 2\n",
    "\n",
    "        # Check if mid element is the minimum\n",
    "        if lst[mid] > lst[mid + 1]:\n",
    "            return lst[mid + 1]\n",
    "\n",
    "        # Check if mid element is greater than right element\n",
    "        if lst[mid] > lst[right]:\n",
    "            left = mid + 1\n",
    "        else:\n",
    "            right = mid\n",
    "\n",
    "    # If no minimum found (should not happen in a properly rotated sorted list)\n",
    "    return None\n"
   ]
  },
  {
   "cell_type": "code",
   "execution_count": 57,
   "id": "31463642",
   "metadata": {},
   "outputs": [
    {
     "name": "stdout",
     "output_type": "stream",
     "text": [
      "2\n"
     ]
    }
   ],
   "source": [
    "my_list = [7, 9, 11, 15, 2, 5]\n",
    "minimum = find_minimum_rotated(my_list)\n",
    "print(minimum) "
   ]
  },
  {
   "cell_type": "markdown",
   "id": "a2519864",
   "metadata": {},
   "source": [
    "# 31. Write a program to find the sum of all even numbers in a list."
   ]
  },
  {
   "cell_type": "code",
   "execution_count": 58,
   "id": "76ea90c5",
   "metadata": {},
   "outputs": [],
   "source": [
    "def sum_even_numbers(lst):\n",
    "    even_sum = 0\n",
    "    for num in lst:\n",
    "        if num % 2 == 0:\n",
    "            even_sum += num\n",
    "    return even_sum\n"
   ]
  },
  {
   "cell_type": "code",
   "execution_count": 59,
   "id": "56c210e5",
   "metadata": {},
   "outputs": [
    {
     "name": "stdout",
     "output_type": "stream",
     "text": [
      "30\n"
     ]
    }
   ],
   "source": [
    "my_list = [1, 2, 3, 4, 5, 6, 7, 8, 9, 10]\n",
    "even_sum = sum_even_numbers(my_list)\n",
    "print(even_sum)  "
   ]
  },
  {
   "cell_type": "markdown",
   "id": "e322f9b8",
   "metadata": {},
   "source": [
    "# 32. Implement a function to calculate the power of a number using recursion.\n"
   ]
  },
  {
   "cell_type": "code",
   "execution_count": 60,
   "id": "b232932a",
   "metadata": {},
   "outputs": [],
   "source": [
    "def power(base, exponent):\n",
    "    if exponent == 0:\n",
    "        return 1\n",
    "    elif exponent < 0:\n",
    "        return 1 / power(base, -exponent)\n",
    "    else:\n",
    "        return base * power(base, exponent - 1)\n"
   ]
  },
  {
   "cell_type": "code",
   "execution_count": 61,
   "id": "b9dc2d37",
   "metadata": {},
   "outputs": [
    {
     "name": "stdout",
     "output_type": "stream",
     "text": [
      "32\n"
     ]
    }
   ],
   "source": [
    "base = 2\n",
    "exponent = 5\n",
    "result = power(base, exponent)\n",
    "print(result) "
   ]
  },
  {
   "cell_type": "markdown",
   "id": "8024b7df",
   "metadata": {},
   "source": [
    "# 33. Write a Python program to remove duplicates from a list while preserving the order.\n"
   ]
  },
  {
   "cell_type": "code",
   "execution_count": 62,
   "id": "402ced1c",
   "metadata": {},
   "outputs": [],
   "source": [
    "def remove_duplicates(lst):\n",
    "    seen = set()\n",
    "    result = []\n",
    "    for item in lst:\n",
    "        if item not in seen:\n",
    "            seen.add(item)\n",
    "            result.append(item)\n",
    "    return result\n"
   ]
  },
  {
   "cell_type": "code",
   "execution_count": 63,
   "id": "a060cac3",
   "metadata": {},
   "outputs": [
    {
     "name": "stdout",
     "output_type": "stream",
     "text": [
      "[3, 1, 2, 4, 5]\n"
     ]
    }
   ],
   "source": [
    "my_list = [3, 1, 2, 2, 1, 4, 5, 3, 4]\n",
    "result = remove_duplicates(my_list)\n",
    "print(result)"
   ]
  },
  {
   "cell_type": "markdown",
   "id": "6d8200b4",
   "metadata": {},
   "source": [
    "# 34. Implement a function to find the longest common prefix among a list of strings.\n"
   ]
  },
  {
   "cell_type": "code",
   "execution_count": 64,
   "id": "f964da8e",
   "metadata": {},
   "outputs": [],
   "source": [
    "def longest_common_prefix(strings):\n",
    "    if not strings:\n",
    "        return \"\"\n",
    "\n",
    "    prefix = strings[0]\n",
    "\n",
    "    for string in strings[1:]:\n",
    "        while not string.startswith(prefix):\n",
    "            prefix = prefix[:-1]\n",
    "            if not prefix:\n",
    "                return \"\"\n",
    "\n",
    "    return prefix\n"
   ]
  },
  {
   "cell_type": "code",
   "execution_count": 65,
   "id": "aad43819",
   "metadata": {},
   "outputs": [
    {
     "name": "stdout",
     "output_type": "stream",
     "text": [
      "fl\n"
     ]
    }
   ],
   "source": [
    "my_strings = [\"flower\", \"flow\", \"flight\"]\n",
    "common_prefix = longest_common_prefix(my_strings)\n",
    "print(common_prefix)"
   ]
  },
  {
   "cell_type": "markdown",
   "id": "3317c69f",
   "metadata": {},
   "source": [
    "# 35. Write a program to check if a given number is a perfect square."
   ]
  },
  {
   "cell_type": "code",
   "execution_count": 66,
   "id": "bb3662fa",
   "metadata": {},
   "outputs": [],
   "source": [
    "def is_perfect_square(number):\n",
    "    if number < 0:\n",
    "        return False\n",
    "    if number == 0:\n",
    "        return True\n",
    "\n",
    "    left = 1\n",
    "    right = number\n",
    "\n",
    "    while left <= right:\n",
    "        mid = (left + right) // 2\n",
    "        square = mid * mid\n",
    "\n",
    "        if square == number:\n",
    "            return True\n",
    "        elif square < number:\n",
    "            left = mid + 1\n",
    "        else:\n",
    "            right = mid - 1\n",
    "\n",
    "    return False\n"
   ]
  },
  {
   "cell_type": "code",
   "execution_count": 67,
   "id": "59ad30b9",
   "metadata": {},
   "outputs": [
    {
     "name": "stdout",
     "output_type": "stream",
     "text": [
      "True\n",
      "False\n"
     ]
    }
   ],
   "source": [
    "number1 = 16\n",
    "print(is_perfect_square(number1))  \n",
    "number2 = 27\n",
    "print(is_perfect_square(number2)) \n"
   ]
  },
  {
   "cell_type": "markdown",
   "id": "71941946",
   "metadata": {},
   "source": [
    "# 36. Implement a function to calculate the product of all elements in a list."
   ]
  },
  {
   "cell_type": "code",
   "execution_count": 68,
   "id": "0c10bbea",
   "metadata": {},
   "outputs": [],
   "source": [
    "def calculate_product(lst):\n",
    "    product = 1\n",
    "    for num in lst:\n",
    "        product *= num\n",
    "    return product\n"
   ]
  },
  {
   "cell_type": "code",
   "execution_count": 69,
   "id": "4e56707a",
   "metadata": {},
   "outputs": [
    {
     "name": "stdout",
     "output_type": "stream",
     "text": [
      "120\n"
     ]
    }
   ],
   "source": [
    "my_list = [1, 2, 3, 4, 5]\n",
    "product = calculate_product(my_list)\n",
    "print(product)  "
   ]
  },
  {
   "cell_type": "markdown",
   "id": "7fcf3915",
   "metadata": {},
   "source": [
    "# 37. Write a Python program to reverse the order of words in a sentence while preserving the word order."
   ]
  },
  {
   "cell_type": "code",
   "execution_count": 70,
   "id": "44f41062",
   "metadata": {},
   "outputs": [],
   "source": [
    "def reverse_words(sentence):\n",
    "    words = sentence.split()  # Split the sentence into a list of words\n",
    "    reversed_words = words[::-1]  # Reverse the order of words\n",
    "    reversed_sentence = ' '.join(reversed_words)  # Join the reversed words into a sentence\n",
    "    return reversed_sentence\n"
   ]
  },
  {
   "cell_type": "code",
   "execution_count": 71,
   "id": "7330f9d3",
   "metadata": {},
   "outputs": [
    {
     "name": "stdout",
     "output_type": "stream",
     "text": [
      "today? you are how Hello,\n"
     ]
    }
   ],
   "source": [
    "my_sentence = \"Hello, how are you today?\"\n",
    "reversed_sentence = reverse_words(my_sentence)\n",
    "print(reversed_sentence)"
   ]
  },
  {
   "cell_type": "markdown",
   "id": "6fd4a6b3",
   "metadata": {},
   "source": [
    "# 38. Implement a function to find the missing number in a given list of consecutive numbers."
   ]
  },
  {
   "cell_type": "code",
   "execution_count": 72,
   "id": "884eff36",
   "metadata": {},
   "outputs": [],
   "source": [
    "def find_missing_number(lst):\n",
    "    n = len(lst) + 1  # The total number of elements, including the missing one\n",
    "    total_sum = (n * (n + 1)) // 2  # The sum of all elements from 1 to n\n",
    "    list_sum = sum(lst)  # The sum of the elements in the given list\n",
    "    missing_number = total_sum - list_sum\n",
    "    return missing_number\n"
   ]
  },
  {
   "cell_type": "code",
   "execution_count": 73,
   "id": "6997efa2",
   "metadata": {},
   "outputs": [
    {
     "name": "stdout",
     "output_type": "stream",
     "text": [
      "4\n"
     ]
    }
   ],
   "source": [
    "my_list = [1, 2, 3, 5, 6, 7, 8, 9]\n",
    "missing_number = find_missing_number(my_list)\n",
    "print(missing_number)"
   ]
  },
  {
   "cell_type": "markdown",
   "id": "7289b411",
   "metadata": {},
   "source": [
    "# 39. Write a program to find the sum of digits of a given number."
   ]
  },
  {
   "cell_type": "code",
   "execution_count": 74,
   "id": "008ffb3d",
   "metadata": {},
   "outputs": [],
   "source": [
    "def sum_of_digits(number):\n",
    "    sum_digits = 0\n",
    "    while number > 0:\n",
    "        digit = number % 10  # Extract the last digit\n",
    "        sum_digits += digit  # Add the digit to the sum\n",
    "        number //= 10  # Remove the last digit\n",
    "    return sum_digits\n"
   ]
  },
  {
   "cell_type": "code",
   "execution_count": 75,
   "id": "8c963feb",
   "metadata": {},
   "outputs": [
    {
     "name": "stdout",
     "output_type": "stream",
     "text": [
      "15\n"
     ]
    }
   ],
   "source": [
    "number = 12345\n",
    "sum_of_digits = sum_of_digits(number)\n",
    "print(sum_of_digits) "
   ]
  },
  {
   "cell_type": "markdown",
   "id": "b32228be",
   "metadata": {},
   "source": [
    "# 40. Implement a function to check if a given string is a valid palindrome considering case sensitivity."
   ]
  },
  {
   "cell_type": "code",
   "execution_count": 76,
   "id": "5441dc91",
   "metadata": {},
   "outputs": [],
   "source": [
    "def is_valid_palindrome(string):\n",
    "    # Remove non-alphanumeric characters and convert to lowercase\n",
    "    alphanumeric_string = ''.join(char.lower() for char in string if char.isalnum())\n",
    "\n",
    "    # Check if the alphanumeric string is a palindrome\n",
    "    return alphanumeric_string == alphanumeric_string[::-1]\n"
   ]
  },
  {
   "cell_type": "code",
   "execution_count": 77,
   "id": "5bcb39ab",
   "metadata": {},
   "outputs": [
    {
     "name": "stdout",
     "output_type": "stream",
     "text": [
      "The string is a valid palindrome.\n"
     ]
    }
   ],
   "source": [
    "my_string = \"A man, a plan, a canal: Panama\"\n",
    "if is_valid_palindrome(my_string):\n",
    "    print(\"The string is a valid palindrome.\")\n",
    "else:\n",
    "    print(\"The string is not a valid palindrome.\")\n"
   ]
  },
  {
   "cell_type": "markdown",
   "id": "4448417c",
   "metadata": {},
   "source": [
    "# 41. Write a Python program to find the smallest missing positive integer in a list"
   ]
  },
  {
   "cell_type": "code",
   "execution_count": 78,
   "id": "b9c54fee",
   "metadata": {},
   "outputs": [],
   "source": [
    "def find_smallest_missing_positive(lst):\n",
    "    n = len(lst)\n",
    "\n",
    "    # Step 1: Move all positive integers to their respective positions\n",
    "    for i in range(n):\n",
    "        while 1 <= lst[i] <= n and lst[i] != lst[lst[i] - 1]:\n",
    "            lst[lst[i] - 1], lst[i] = lst[i], lst[lst[i] - 1]\n",
    "\n",
    "    # Step 2: Find the first missing positive integer\n",
    "    for i in range(n):\n",
    "        if lst[i] != i + 1:\n",
    "            return i + 1\n",
    "\n",
    "    # Step 3: If all positive integers from 1 to n are present, the missing integer is n + 1\n",
    "    return n + 1\n"
   ]
  },
  {
   "cell_type": "code",
   "execution_count": 79,
   "id": "3cfc0e1e",
   "metadata": {},
   "outputs": [
    {
     "name": "stdout",
     "output_type": "stream",
     "text": [
      "2\n"
     ]
    }
   ],
   "source": [
    "my_list = [3, 4, -1, 1]\n",
    "smallest_missing = find_smallest_missing_positive(my_list)\n",
    "print(smallest_missing)  "
   ]
  },
  {
   "cell_type": "markdown",
   "id": "e04ebcbb",
   "metadata": {},
   "source": [
    "# 42. Implement a function to find the longest palindrome substring in a given string.\n"
   ]
  },
  {
   "cell_type": "code",
   "execution_count": 80,
   "id": "6b615db2",
   "metadata": {},
   "outputs": [],
   "source": [
    "def longest_palindrome_substring(string):\n",
    "    if not string:\n",
    "        return \"\"\n",
    "\n",
    "    longest_palindrome = \"\"\n",
    "    n = len(string)\n",
    "\n",
    "    # Helper function to expand around center\n",
    "    def expand_around_center(left, right):\n",
    "        while left >= 0 and right < n and string[left] == string[right]:\n",
    "            left -= 1\n",
    "            right += 1\n",
    "        return string[left + 1:right]\n",
    "\n",
    "    for i in range(n):\n",
    "        # Check for odd-length palindromes with center at i\n",
    "        palindrome_odd = expand_around_center(i, i)\n",
    "        if len(palindrome_odd) > len(longest_palindrome):\n",
    "            longest_palindrome = palindrome_odd\n",
    "\n",
    "        # Check for even-length palindromes with center at i and i+1\n",
    "        palindrome_even = expand_around_center(i, i + 1)\n",
    "        if len(palindrome_even) > len(longest_palindrome):\n",
    "            longest_palindrome = palindrome_even\n",
    "\n",
    "    return longest_palindrome\n"
   ]
  },
  {
   "cell_type": "code",
   "execution_count": 81,
   "id": "67f4d5fc",
   "metadata": {},
   "outputs": [
    {
     "name": "stdout",
     "output_type": "stream",
     "text": [
      "bab\n"
     ]
    }
   ],
   "source": [
    "my_string = \"babad\"\n",
    "longest_palindrome = longest_palindrome_substring(my_string)\n",
    "print(longest_palindrome)"
   ]
  },
  {
   "cell_type": "markdown",
   "id": "321d8c31",
   "metadata": {},
   "source": [
    "# 43. Write a program to find the number of occurrences of a given element in a list."
   ]
  },
  {
   "cell_type": "code",
   "execution_count": 82,
   "id": "7ab51b75",
   "metadata": {},
   "outputs": [],
   "source": [
    "def count_occurrences(lst, element):\n",
    "    count = 0\n",
    "    for item in lst:\n",
    "        if item == element:\n",
    "            count += 1\n",
    "    return count\n"
   ]
  },
  {
   "cell_type": "code",
   "execution_count": 83,
   "id": "8fb37b6c",
   "metadata": {},
   "outputs": [
    {
     "name": "stdout",
     "output_type": "stream",
     "text": [
      "4\n"
     ]
    }
   ],
   "source": [
    "my_list = [1, 2, 2, 3, 4, 2, 5, 2]\n",
    "element = 2\n",
    "occurrences = count_occurrences(my_list, element)\n",
    "print(occurrences)  "
   ]
  },
  {
   "cell_type": "markdown",
   "id": "c3479a1e",
   "metadata": {},
   "source": [
    "# 44. Implement a function to check if a given number is a perfect number.\n"
   ]
  },
  {
   "cell_type": "code",
   "execution_count": 84,
   "id": "f28c8a61",
   "metadata": {},
   "outputs": [],
   "source": [
    "def is_perfect_number(number):\n",
    "    if number <= 0:\n",
    "        return False\n",
    "\n",
    "    divisor_sum = 0\n",
    "    for i in range(1, number):\n",
    "        if number % i == 0:\n",
    "            divisor_sum += i\n",
    "\n",
    "    return divisor_sum == number\n"
   ]
  },
  {
   "cell_type": "code",
   "execution_count": 85,
   "id": "b5e71c2c",
   "metadata": {},
   "outputs": [
    {
     "name": "stdout",
     "output_type": "stream",
     "text": [
      "True\n",
      "True\n",
      "False\n"
     ]
    }
   ],
   "source": [
    "number1 = 6\n",
    "print(is_perfect_number(number1)) \n",
    "number2 = 28\n",
    "print(is_perfect_number(number2))  \n",
    "\n",
    "number3 = 12\n",
    "print(is_perfect_number(number3))  "
   ]
  },
  {
   "cell_type": "markdown",
   "id": "97d57c80",
   "metadata": {},
   "source": [
    "# 45. Write a Python program to remove all duplicates from a string.\n"
   ]
  },
  {
   "cell_type": "code",
   "execution_count": 86,
   "id": "29c3c168",
   "metadata": {},
   "outputs": [],
   "source": [
    "def remove_duplicates(string):\n",
    "    unique_chars = []\n",
    "    for char in string:\n",
    "        if char not in unique_chars:\n",
    "            unique_chars.append(char)\n",
    "    return ''.join(unique_chars)\n"
   ]
  },
  {
   "cell_type": "code",
   "execution_count": 87,
   "id": "1305da96",
   "metadata": {},
   "outputs": [
    {
     "name": "stdout",
     "output_type": "stream",
     "text": [
      "Helo, Wrd!\n"
     ]
    }
   ],
   "source": [
    "my_string = \"Hello, World!\"\n",
    "result = remove_duplicates(my_string)\n",
    "print(result) "
   ]
  },
  {
   "cell_type": "markdown",
   "id": "75e093e6",
   "metadata": {},
   "source": [
    "# 46. Implement a function to find the first missing positive\n"
   ]
  },
  {
   "cell_type": "code",
   "execution_count": 88,
   "id": "cf99ad51",
   "metadata": {},
   "outputs": [],
   "source": [
    "def find_first_missing_positive(lst):\n",
    "    n = len(lst)\n",
    "\n",
    "    # Step 1: Move all positive integers to their respective positions\n",
    "    for i in range(n):\n",
    "        while 1 <= lst[i] <= n and lst[i] != lst[lst[i] - 1]:\n",
    "            lst[lst[i] - 1], lst[i] = lst[i], lst[lst[i] - 1]\n",
    "\n",
    "    # Step 2: Find the first missing positive integer\n",
    "    for i in range(n):\n",
    "        if lst[i] != i + 1:\n",
    "            return i + 1\n",
    "\n",
    "    # Step 3: If all positive integers from 1 to n are present, the missing integer is n + 1\n",
    "    return n + 1\n"
   ]
  },
  {
   "cell_type": "code",
   "execution_count": 89,
   "id": "1a216a94",
   "metadata": {},
   "outputs": [
    {
     "name": "stdout",
     "output_type": "stream",
     "text": [
      "2\n"
     ]
    }
   ],
   "source": [
    "my_list = [3, 4, -1, 1]\n",
    "first_missing = find_first_missing_positive(my_list)\n",
    "print(first_missing)  "
   ]
  },
  {
   "cell_type": "code",
   "execution_count": null,
   "id": "1b9021ec",
   "metadata": {},
   "outputs": [],
   "source": []
  }
 ],
 "metadata": {
  "kernelspec": {
   "display_name": "Python 3 (ipykernel)",
   "language": "python",
   "name": "python3"
  },
  "language_info": {
   "codemirror_mode": {
    "name": "ipython",
    "version": 3
   },
   "file_extension": ".py",
   "mimetype": "text/x-python",
   "name": "python",
   "nbconvert_exporter": "python",
   "pygments_lexer": "ipython3",
   "version": "3.10.9"
  }
 },
 "nbformat": 4,
 "nbformat_minor": 5
}
